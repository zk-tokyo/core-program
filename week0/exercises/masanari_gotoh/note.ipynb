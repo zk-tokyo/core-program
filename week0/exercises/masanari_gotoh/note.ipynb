{
 "cells": [
  {
   "cell_type": "code",
   "execution_count": 11,
   "id": "97de2e2b",
   "metadata": {},
   "outputs": [
    {
     "name": "stdout",
     "output_type": "stream",
     "text": [
      "(1, 3, -2)\n",
      "(1, -2, 1)\n",
      "(1, 3, -8)\n"
     ]
    }
   ],
   "source": [
    "def extendedEuclidean(a:int , b:int) -> tuple[int, int]:\n",
    "    if b == 0:\n",
    "        return a, 1, 0\n",
    "    gcd, s, t = extendedEuclidean(b, a % b)\n",
    "    x = t\n",
    "    y = s - (a // b) * t\n",
    "    return gcd, x, y\n",
    "\n",
    "print(extendedEuclidean(7, 10))\n",
    "print(extendedEuclidean(2, 5))\n",
    "print(extendedEuclidean(35, 13))"
   ]
  },
  {
   "cell_type": "code",
   "execution_count": 12,
   "id": "3de12104",
   "metadata": {},
   "outputs": [
    {
     "name": "stdout",
     "output_type": "stream",
     "text": [
      "1\n"
     ]
    }
   ],
   "source": [
    "print((35*3)%13)"
   ]
  },
  {
   "cell_type": "code",
   "execution_count": 15,
   "id": "94b58ebe",
   "metadata": {},
   "outputs": [
    {
     "name": "stdout",
     "output_type": "stream",
     "text": [
      "6\n"
     ]
    }
   ],
   "source": [
    "base = 5\n",
    "num = base\n",
    "for i in range(1,24):\n",
    "    if num % 23 == 8:\n",
    "        print(i)\n",
    "        break\n",
    "    num = (num * base) % 23"
   ]
  },
  {
   "cell_type": "code",
   "execution_count": 19,
   "id": "368fff31",
   "metadata": {},
   "outputs": [
    {
     "name": "stdout",
     "output_type": "stream",
     "text": [
      "8\n"
     ]
    }
   ],
   "source": [
    "print(15625 % 23)"
   ]
  }
 ],
 "metadata": {
  "kernelspec": {
   "display_name": ".venv",
   "language": "python",
   "name": "python3"
  },
  "language_info": {
   "codemirror_mode": {
    "name": "ipython",
    "version": 3
   },
   "file_extension": ".py",
   "mimetype": "text/x-python",
   "name": "python",
   "nbconvert_exporter": "python",
   "pygments_lexer": "ipython3",
   "version": "3.12.0"
  }
 },
 "nbformat": 4,
 "nbformat_minor": 5
}
